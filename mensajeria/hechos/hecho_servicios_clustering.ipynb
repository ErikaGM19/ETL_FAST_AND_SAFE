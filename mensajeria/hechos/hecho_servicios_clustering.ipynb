{
 "cells": [
  {
   "cell_type": "code",
   "execution_count": 1,
   "id": "73254b74",
   "metadata": {},
   "outputs": [
    {
     "name": "stdout",
     "output_type": "stream",
     "text": [
      "Requirement already satisfied: sqlalchemy in e:\\univalle\\13. séptimo semestre (repetición)\\introd ciencias de los datos\\clase 8\\etl\\venv\\lib\\site-packages (2.0.41)\n",
      "Requirement already satisfied: greenlet>=1 in e:\\univalle\\13. séptimo semestre (repetición)\\introd ciencias de los datos\\clase 8\\etl\\venv\\lib\\site-packages (from sqlalchemy) (3.2.3)\n",
      "Requirement already satisfied: typing-extensions>=4.6.0 in e:\\univalle\\13. séptimo semestre (repetición)\\introd ciencias de los datos\\clase 8\\etl\\venv\\lib\\site-packages (from sqlalchemy) (4.14.0)\n",
      "Note: you may need to restart the kernel to use updated packages.\n",
      "Requirement already satisfied: psycopg2 in e:\\univalle\\13. séptimo semestre (repetición)\\introd ciencias de los datos\\clase 8\\etl\\venv\\lib\\site-packages (2.9.10)\n",
      "Note: you may need to restart the kernel to use updated packages.\n",
      "Requirement already satisfied: psycopg2-binary in e:\\univalle\\13. séptimo semestre (repetición)\\introd ciencias de los datos\\clase 8\\etl\\venv\\lib\\site-packages (2.9.10)\n",
      "Note: you may need to restart the kernel to use updated packages.\n",
      "Requirement already satisfied: scikit-learn in e:\\univalle\\13. séptimo semestre (repetición)\\introd ciencias de los datos\\clase 8\\etl\\venv\\lib\\site-packages (1.7.0)\n",
      "Requirement already satisfied: numpy>=1.22.0 in e:\\univalle\\13. séptimo semestre (repetición)\\introd ciencias de los datos\\clase 8\\etl\\venv\\lib\\site-packages (from scikit-learn) (2.2.6)\n",
      "Requirement already satisfied: scipy>=1.8.0 in e:\\univalle\\13. séptimo semestre (repetición)\\introd ciencias de los datos\\clase 8\\etl\\venv\\lib\\site-packages (from scikit-learn) (1.15.3)\n",
      "Requirement already satisfied: joblib>=1.2.0 in e:\\univalle\\13. séptimo semestre (repetición)\\introd ciencias de los datos\\clase 8\\etl\\venv\\lib\\site-packages (from scikit-learn) (1.5.1)\n",
      "Requirement already satisfied: threadpoolctl>=3.1.0 in e:\\univalle\\13. séptimo semestre (repetición)\\introd ciencias de los datos\\clase 8\\etl\\venv\\lib\\site-packages (from scikit-learn) (3.6.0)\n",
      "Note: you may need to restart the kernel to use updated packages.\n",
      "Requirement already satisfied: pandas in e:\\univalle\\13. séptimo semestre (repetición)\\introd ciencias de los datos\\clase 8\\etl\\venv\\lib\\site-packages (2.3.0)\n",
      "Requirement already satisfied: numpy>=1.26.0 in e:\\univalle\\13. séptimo semestre (repetición)\\introd ciencias de los datos\\clase 8\\etl\\venv\\lib\\site-packages (from pandas) (2.2.6)\n",
      "Requirement already satisfied: python-dateutil>=2.8.2 in e:\\univalle\\13. séptimo semestre (repetición)\\introd ciencias de los datos\\clase 8\\etl\\venv\\lib\\site-packages (from pandas) (2.9.0.post0)\n",
      "Requirement already satisfied: pytz>=2020.1 in e:\\univalle\\13. séptimo semestre (repetición)\\introd ciencias de los datos\\clase 8\\etl\\venv\\lib\\site-packages (from pandas) (2025.2)\n",
      "Requirement already satisfied: tzdata>=2022.7 in e:\\univalle\\13. séptimo semestre (repetición)\\introd ciencias de los datos\\clase 8\\etl\\venv\\lib\\site-packages (from pandas) (2025.2)\n",
      "Requirement already satisfied: six>=1.5 in e:\\univalle\\13. séptimo semestre (repetición)\\introd ciencias de los datos\\clase 8\\etl\\venv\\lib\\site-packages (from python-dateutil>=2.8.2->pandas) (1.17.0)\n",
      "Note: you may need to restart the kernel to use updated packages.\n"
     ]
    }
   ],
   "source": [
    "# Instalación de librerías requeridas\n",
    "%pip install sqlalchemy\n",
    "%pip install psycopg2\n",
    "%pip install psycopg2-binary\n",
    "%pip install scikit-learn\n",
    "%pip install pandas"
   ]
  },
  {
   "cell_type": "code",
   "execution_count": 2,
   "id": "af8a3daa",
   "metadata": {},
   "outputs": [],
   "source": [
    "import pandas as pd\n",
    "import yaml\n",
    "from sqlalchemy import create_engine\n",
    "from sklearn.feature_extraction.text import TfidfVectorizer\n",
    "from sklearn.cluster import KMeans\n",
    "from sklearn.preprocessing import StandardScaler, OneHotEncoder\n",
    "from sklearn.compose import ColumnTransformer\n"
   ]
  },
  {
   "cell_type": "code",
   "execution_count": 3,
   "id": "74e8e445",
   "metadata": {},
   "outputs": [
    {
     "data": {
      "text/plain": [
       "{'driver': 'postgresql+psycopg2',\n",
       " 'host': 'proyectobodega.postgres.database.azure.com',\n",
       " 'port': 5432,\n",
       " 'user': 'adminbodega',\n",
       " 'password': 'Goddess9039#',\n",
       " 'db': 'proyectobodega'}"
      ]
     },
     "execution_count": 3,
     "metadata": {},
     "output_type": "execute_result"
    }
   ],
   "source": [
    "with open('../../configBD/config.yml', 'r') as f:\n",
    "    cfg      = yaml.safe_load(f)\n",
    "    cfg_etl  = cfg['bodega']\n",
    "    cfg_bd   = cfg['mensajeria']\n",
    "cfg_etl        # verificación rápida\n"
   ]
  },
  {
   "cell_type": "code",
   "execution_count": 4,
   "id": "3f7f3923",
   "metadata": {},
   "outputs": [],
   "source": [
    "url_bd  = f\"{cfg_bd['driver']}://{cfg_bd['user']}:{cfg_bd['password']}@{cfg_bd['host']}:{cfg_bd['port']}/{cfg_bd['db']}\"\n",
    "url_etl = f\"{cfg_etl['driver']}://{cfg_etl['user']}:{cfg_etl['password']}@{cfg_etl['host']}:{cfg_etl['port']}/{cfg_etl['db']}\"\n"
   ]
  },
  {
   "cell_type": "code",
   "execution_count": 5,
   "id": "75b5f2ae",
   "metadata": {},
   "outputs": [],
   "source": [
    "cliente_bd  = create_engine(url_bd)\n",
    "cliente_etl = create_engine(url_etl)\n"
   ]
  },
  {
   "cell_type": "code",
   "execution_count": 6,
   "id": "d1e21924",
   "metadata": {},
   "outputs": [],
   "source": [
    "fact_serv = pd.read_sql_table('fact_servicios', url_etl)\n",
    "dim_tiempo = pd.read_sql_table('dim_tiempo', url_etl) \\\n",
    "               .rename(columns={'Año':'year','Mes':'month','Dia':'day'})\n",
    "dim_tiempo['date'] = pd.to_datetime(dim_tiempo[['year','month','day']]).dt.date\n"
   ]
  },
  {
   "cell_type": "code",
   "execution_count": 10,
   "id": "d142d956",
   "metadata": {},
   "outputs": [],
   "source": [
    "fact_serv = pd.read_sql_table('fact_servicios', url_etl)\n"
   ]
  },
  {
   "cell_type": "code",
   "execution_count": 11,
   "id": "bc09eb8e",
   "metadata": {},
   "outputs": [],
   "source": [
    "# Duraciones (en minutos); usa .dt.total_seconds()/60\n",
    "fact_serv['Duracion_Total'] = (\n",
    "    pd.to_datetime(fact_serv['Tiempo_Cerrado'])  -\n",
    "    pd.to_datetime(fact_serv['Tiempo_Inicio'])\n",
    ").dt.total_seconds().div(60)\n",
    "\n",
    "fact_serv['Duracion_Origen→Destino'] = (\n",
    "    pd.to_datetime(fact_serv['Tiempo_Entregado_Destino']) -\n",
    "    pd.to_datetime(fact_serv['Tiempo_Recogido_Origen'])\n",
    ").dt.total_seconds().div(60)\n",
    "\n",
    "# Convierte booleanos a int\n",
    "fact_serv['EsFinal'] = fact_serv['EsFinal'].astype(int)\n",
    "\n",
    "# Selecciona variables numéricas y categóricas\n",
    "num_cols  = ['Duracion_Total','Duracion_Origen→Destino']\n",
    "cat_cols  = ['TipoServicio','EstadoServicio']\n",
    "\n",
    "# Preprocesador: escalado para numéricas + one-hot para categóricas\n",
    "pre = ColumnTransformer([\n",
    "        ('num', StandardScaler(), num_cols),\n",
    "        ('cat', OneHotEncoder(handle_unknown='ignore'), cat_cols)\n",
    "     ])\n"
   ]
  },
  {
   "cell_type": "code",
   "execution_count": 19,
   "id": "9f71ff6d",
   "metadata": {},
   "outputs": [],
   "source": [
    "# sección 9 – ingeniería de variables y preprocesamiento\n",
    "\n",
    "# 1) selecciona sólo las columnas que usará el transformer\n",
    "feature_cols = num_cols + cat_cols\n",
    "df_X = fact_serv[feature_cols].copy()\n",
    "\n",
    "# 2) imputa los NaN en las numéricas con 0 (o la estrategia que prefieras)\n",
    "df_X[num_cols] = df_X[num_cols].fillna(0)\n",
    "\n",
    "# 3) garantiza que todos los nombres de columna sean str\n",
    "df_X.columns = df_X.columns.map(str)\n",
    "\n",
    "# 4) aplica el transformer sobre el DataFrame limpio\n",
    "X = pre.fit_transform(df_X)\n"
   ]
  },
  {
   "cell_type": "code",
   "execution_count": 20,
   "id": "11f9137f",
   "metadata": {},
   "outputs": [
    {
     "name": "stderr",
     "output_type": "stream",
     "text": [
      "e:\\Univalle\\13. Séptimo Semestre (Repetición)\\Introd Ciencias de los datos\\Clase 8\\ETL\\venv\\Lib\\site-packages\\sklearn\\base.py:1363: ConvergenceWarning: Number of distinct clusters (2) found smaller than n_clusters (5). Possibly due to duplicate points in X.\n",
      "  return fit_method(estimator, *args, **kwargs)\n"
     ]
    }
   ],
   "source": [
    "# sección 10 – K-means\n",
    "num_clusters = 5\n",
    "kmeans = KMeans(n_clusters=num_clusters, random_state=42, n_init='auto')\n",
    "fact_serv['cluster'] = kmeans.fit_predict(X)\n",
    "\n",
    "cluster_names = {\n",
    "    0:'express',\n",
    "    1:'largo_con_retraso',\n",
    "    2:'fallido_cancelado',\n",
    "    3:'standard',\n",
    "    4:'otros'\n",
    "}\n",
    "fact_serv['categoria'] = fact_serv['cluster'].map(cluster_names)\n"
   ]
  },
  {
   "cell_type": "code",
   "execution_count": 21,
   "id": "ea573537",
   "metadata": {},
   "outputs": [
    {
     "data": {
      "text/html": [
       "<div>\n",
       "<style scoped>\n",
       "    .dataframe tbody tr th:only-of-type {\n",
       "        vertical-align: middle;\n",
       "    }\n",
       "\n",
       "    .dataframe tbody tr th {\n",
       "        vertical-align: top;\n",
       "    }\n",
       "\n",
       "    .dataframe thead th {\n",
       "        text-align: right;\n",
       "    }\n",
       "</style>\n",
       "<table border=\"1\" class=\"dataframe\">\n",
       "  <thead>\n",
       "    <tr style=\"text-align: right;\">\n",
       "      <th></th>\n",
       "      <th>express</th>\n",
       "      <th>largo_con_retraso</th>\n",
       "      <th>TiempoKey</th>\n",
       "    </tr>\n",
       "  </thead>\n",
       "  <tbody>\n",
       "    <tr>\n",
       "      <th>0</th>\n",
       "      <td>864</td>\n",
       "      <td>136</td>\n",
       "      <td>7152</td>\n",
       "    </tr>\n",
       "    <tr>\n",
       "      <th>1</th>\n",
       "      <td>864</td>\n",
       "      <td>136</td>\n",
       "      <td>7153</td>\n",
       "    </tr>\n",
       "    <tr>\n",
       "      <th>2</th>\n",
       "      <td>864</td>\n",
       "      <td>136</td>\n",
       "      <td>7154</td>\n",
       "    </tr>\n",
       "    <tr>\n",
       "      <th>3</th>\n",
       "      <td>864</td>\n",
       "      <td>136</td>\n",
       "      <td>7155</td>\n",
       "    </tr>\n",
       "    <tr>\n",
       "      <th>4</th>\n",
       "      <td>864</td>\n",
       "      <td>136</td>\n",
       "      <td>7156</td>\n",
       "    </tr>\n",
       "  </tbody>\n",
       "</table>\n",
       "</div>"
      ],
      "text/plain": [
       "   express  largo_con_retraso  TiempoKey\n",
       "0      864                136       7152\n",
       "1      864                136       7153\n",
       "2      864                136       7154\n",
       "3      864                136       7155\n",
       "4      864                136       7156"
      ]
     },
     "execution_count": 21,
     "metadata": {},
     "output_type": "execute_result"
    }
   ],
   "source": [
    "# 1) fecha del servicio\n",
    "fact_serv['fecha_servicio'] = pd.to_datetime(fact_serv['Tiempo_Inicio']).dt.date\n",
    "\n",
    "# 2) conteo por fecha y categoría\n",
    "servicios_agr = (\n",
    "    fact_serv.groupby(['fecha_servicio','categoria'])\n",
    "             .size()\n",
    "             .unstack(fill_value=0)\n",
    "             .reset_index()\n",
    ")\n",
    "\n",
    "# 3) añadir TiempoKey\n",
    "servicios_agr = servicios_agr.merge(\n",
    "    dim_tiempo[['tiempo_key','date']],\n",
    "    left_on='fecha_servicio', right_on='date', how='left'\n",
    ").rename(columns={'tiempo_key':'TiempoKey'}).drop(columns=['date','fecha_servicio'])\n",
    "\n",
    "# 4) guardar en DW\n",
    "servicios_agr.to_sql('fact_servicios_clustering',\n",
    "                     cliente_etl,\n",
    "                     if_exists='replace',\n",
    "                     index=False)\n",
    "\n",
    "# 5) opcional: exportar CSV\n",
    "# servicios_agr.to_csv('servicios_agrupados_clustering.csv', index=False)\n",
    "\n",
    "servicios_agr.head()\n"
   ]
  }
 ],
 "metadata": {
  "kernelspec": {
   "display_name": "venv",
   "language": "python",
   "name": "python3"
  },
  "language_info": {
   "codemirror_mode": {
    "name": "ipython",
    "version": 3
   },
   "file_extension": ".py",
   "mimetype": "text/x-python",
   "name": "python",
   "nbconvert_exporter": "python",
   "pygments_lexer": "ipython3",
   "version": "3.12.6"
  }
 },
 "nbformat": 4,
 "nbformat_minor": 5
}

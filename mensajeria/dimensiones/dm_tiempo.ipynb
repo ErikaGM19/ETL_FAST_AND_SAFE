{
 "cells": [
  {
   "cell_type": "code",
   "execution_count": 1,
   "id": "initial_id",
   "metadata": {
    "ExecuteTime": {
     "end_time": "2024-11-10T04:50:53.068930Z",
     "start_time": "2024-11-10T04:50:53.055906Z"
    },
    "execution": {
     "iopub.execute_input": "2025-06-06T18:39:22.526721Z",
     "iopub.status.busy": "2025-06-06T18:39:22.526721Z",
     "iopub.status.idle": "2025-06-06T18:39:22.886474Z",
     "shell.execute_reply": "2025-06-06T18:39:22.886474Z"
    }
   },
   "outputs": [],
   "source": [
    "import pandas as pd\n",
    "from sqlalchemy import create_engine\n",
    "import yaml\n"
   ]
  },
  {
   "cell_type": "markdown",
   "id": "fd9ec8ad",
   "metadata": {},
   "source": [
    "Crear el DataFrame con cada hora del día (0 a 23)\n"
   ]
  },
  {
   "cell_type": "code",
   "execution_count": 2,
   "id": "0f529f47",
   "metadata": {
    "ExecuteTime": {
     "end_time": "2024-11-10T04:50:53.132479Z",
     "start_time": "2024-11-10T04:50:53.103850Z"
    },
    "execution": {
     "iopub.execute_input": "2025-06-06T18:39:22.886474Z",
     "iopub.status.busy": "2025-06-06T18:39:22.886474Z",
     "iopub.status.idle": "2025-06-06T18:39:22.902032Z",
     "shell.execute_reply": "2025-06-06T18:39:22.902032Z"
    }
   },
   "outputs": [
    {
     "name": "stderr",
     "output_type": "stream",
     "text": [
      "C:\\Users\\Eyder\\AppData\\Local\\Temp\\ipykernel_32584\\4087629111.py:1: FutureWarning: 'H' is deprecated and will be removed in a future version, please use 'h' instead.\n",
      "  fechas = pd.date_range(start=\"2023-01-01 00:00:00\", end=\"2023-12-31 23:00:00\", freq=\"H\")\n"
     ]
    },
    {
     "data": {
      "text/html": [
       "<div>\n",
       "<style scoped>\n",
       "    .dataframe tbody tr th:only-of-type {\n",
       "        vertical-align: middle;\n",
       "    }\n",
       "\n",
       "    .dataframe tbody tr th {\n",
       "        vertical-align: top;\n",
       "    }\n",
       "\n",
       "    .dataframe thead th {\n",
       "        text-align: right;\n",
       "    }\n",
       "</style>\n",
       "<table border=\"1\" class=\"dataframe\">\n",
       "  <thead>\n",
       "    <tr style=\"text-align: right;\">\n",
       "      <th></th>\n",
       "      <th>Año</th>\n",
       "      <th>Mes</th>\n",
       "      <th>Dia</th>\n",
       "      <th>Hora</th>\n",
       "    </tr>\n",
       "  </thead>\n",
       "  <tbody>\n",
       "    <tr>\n",
       "      <th>0</th>\n",
       "      <td>2023</td>\n",
       "      <td>1</td>\n",
       "      <td>1</td>\n",
       "      <td>0</td>\n",
       "    </tr>\n",
       "    <tr>\n",
       "      <th>1</th>\n",
       "      <td>2023</td>\n",
       "      <td>1</td>\n",
       "      <td>1</td>\n",
       "      <td>1</td>\n",
       "    </tr>\n",
       "    <tr>\n",
       "      <th>2</th>\n",
       "      <td>2023</td>\n",
       "      <td>1</td>\n",
       "      <td>1</td>\n",
       "      <td>2</td>\n",
       "    </tr>\n",
       "    <tr>\n",
       "      <th>3</th>\n",
       "      <td>2023</td>\n",
       "      <td>1</td>\n",
       "      <td>1</td>\n",
       "      <td>3</td>\n",
       "    </tr>\n",
       "    <tr>\n",
       "      <th>4</th>\n",
       "      <td>2023</td>\n",
       "      <td>1</td>\n",
       "      <td>1</td>\n",
       "      <td>4</td>\n",
       "    </tr>\n",
       "    <tr>\n",
       "      <th>...</th>\n",
       "      <td>...</td>\n",
       "      <td>...</td>\n",
       "      <td>...</td>\n",
       "      <td>...</td>\n",
       "    </tr>\n",
       "    <tr>\n",
       "      <th>8755</th>\n",
       "      <td>2023</td>\n",
       "      <td>12</td>\n",
       "      <td>31</td>\n",
       "      <td>19</td>\n",
       "    </tr>\n",
       "    <tr>\n",
       "      <th>8756</th>\n",
       "      <td>2023</td>\n",
       "      <td>12</td>\n",
       "      <td>31</td>\n",
       "      <td>20</td>\n",
       "    </tr>\n",
       "    <tr>\n",
       "      <th>8757</th>\n",
       "      <td>2023</td>\n",
       "      <td>12</td>\n",
       "      <td>31</td>\n",
       "      <td>21</td>\n",
       "    </tr>\n",
       "    <tr>\n",
       "      <th>8758</th>\n",
       "      <td>2023</td>\n",
       "      <td>12</td>\n",
       "      <td>31</td>\n",
       "      <td>22</td>\n",
       "    </tr>\n",
       "    <tr>\n",
       "      <th>8759</th>\n",
       "      <td>2023</td>\n",
       "      <td>12</td>\n",
       "      <td>31</td>\n",
       "      <td>23</td>\n",
       "    </tr>\n",
       "  </tbody>\n",
       "</table>\n",
       "<p>8760 rows × 4 columns</p>\n",
       "</div>"
      ],
      "text/plain": [
       "       Año  Mes  Dia  Hora\n",
       "0     2023    1    1     0\n",
       "1     2023    1    1     1\n",
       "2     2023    1    1     2\n",
       "3     2023    1    1     3\n",
       "4     2023    1    1     4\n",
       "...    ...  ...  ...   ...\n",
       "8755  2023   12   31    19\n",
       "8756  2023   12   31    20\n",
       "8757  2023   12   31    21\n",
       "8758  2023   12   31    22\n",
       "8759  2023   12   31    23\n",
       "\n",
       "[8760 rows x 4 columns]"
      ]
     },
     "execution_count": 2,
     "metadata": {},
     "output_type": "execute_result"
    }
   ],
   "source": [
    "fechas = pd.date_range(start=\"2023-01-01 00:00:00\", end=\"2023-12-31 23:00:00\", freq=\"H\")\n",
    "\n",
    "# Crear el DataFrame Dim_Tiempo\n",
    "dim_tiempo = pd.DataFrame({\n",
    "    \"Año\": fechas.year,\n",
    "    \"Mes\": fechas.month,\n",
    "    \"Dia\": fechas.day,\n",
    "    \"Hora\": fechas.hour\n",
    "})\n",
    "\n",
    "dim_tiempo"
   ]
  },
  {
   "cell_type": "markdown",
   "id": "e6d421ad",
   "metadata": {},
   "source": [
    "Añadir una columna para el ID único de cada hora\n"
   ]
  },
  {
   "cell_type": "code",
   "execution_count": 3,
   "id": "23998efe",
   "metadata": {
    "ExecuteTime": {
     "end_time": "2024-11-10T04:50:53.192113Z",
     "start_time": "2024-11-10T04:50:53.188021Z"
    },
    "execution": {
     "iopub.execute_input": "2025-06-06T18:39:22.902032Z",
     "iopub.status.busy": "2025-06-06T18:39:22.902032Z",
     "iopub.status.idle": "2025-06-06T18:39:22.907766Z",
     "shell.execute_reply": "2025-06-06T18:39:22.907766Z"
    }
   },
   "outputs": [],
   "source": [
    "dim_tiempo[\"tiempo_key\"] = dim_tiempo.index\n"
   ]
  },
  {
   "cell_type": "markdown",
   "id": "fe9ebcee",
   "metadata": {},
   "source": [
    "Reorganizar columnas para que Tiempo_id sea la primera\n"
   ]
  },
  {
   "cell_type": "code",
   "execution_count": 4,
   "id": "77c37631",
   "metadata": {
    "ExecuteTime": {
     "end_time": "2024-11-10T04:50:53.252549Z",
     "start_time": "2024-11-10T04:50:53.248288Z"
    },
    "execution": {
     "iopub.execute_input": "2025-06-06T18:39:22.907766Z",
     "iopub.status.busy": "2025-06-06T18:39:22.907766Z",
     "iopub.status.idle": "2025-06-06T18:39:22.912447Z",
     "shell.execute_reply": "2025-06-06T18:39:22.912447Z"
    }
   },
   "outputs": [],
   "source": [
    "dim_tiempo = dim_tiempo[[\"tiempo_key\", \"Año\", \"Mes\", \"Dia\", \"Hora\"]]"
   ]
  },
  {
   "cell_type": "markdown",
   "id": "9c6e4591",
   "metadata": {},
   "source": [
    "Cargar configuración de la base de datos desde el archivo YAML\n"
   ]
  },
  {
   "cell_type": "code",
   "execution_count": 5,
   "id": "ba1d8503",
   "metadata": {
    "ExecuteTime": {
     "end_time": "2024-11-10T04:50:53.298329Z",
     "start_time": "2024-11-10T04:50:53.292114Z"
    },
    "execution": {
     "iopub.execute_input": "2025-06-06T18:39:22.912447Z",
     "iopub.status.busy": "2025-06-06T18:39:22.912447Z",
     "iopub.status.idle": "2025-06-06T18:39:22.918386Z",
     "shell.execute_reply": "2025-06-06T18:39:22.918386Z"
    }
   },
   "outputs": [],
   "source": [
    "with open('../../configBD/config.yml', 'r') as f:\n",
    "    config = yaml.safe_load(f)\n",
    "    config_etl = config['bodega']"
   ]
  },
  {
   "cell_type": "markdown",
   "id": "990b52f5",
   "metadata": {},
   "source": [
    "Construir la URL de conexión a la base de datos\n"
   ]
  },
  {
   "cell_type": "code",
   "execution_count": 6,
   "id": "4cc0396d",
   "metadata": {
    "ExecuteTime": {
     "end_time": "2024-11-10T04:50:53.367737Z",
     "start_time": "2024-11-10T04:50:53.365430Z"
    },
    "execution": {
     "iopub.execute_input": "2025-06-06T18:39:22.918386Z",
     "iopub.status.busy": "2025-06-06T18:39:22.918386Z",
     "iopub.status.idle": "2025-06-06T18:39:22.923968Z",
     "shell.execute_reply": "2025-06-06T18:39:22.923968Z"
    }
   },
   "outputs": [],
   "source": [
    "url_etl = (f\"{config_etl['driver']}://{config_etl['user']}:{config_etl['password']}@{config_etl['host']}:\"\n",
    "           f\"{config_etl['port']}/{config_etl['db']}\")"
   ]
  },
  {
   "cell_type": "markdown",
   "id": "9768d7c7",
   "metadata": {},
   "source": [
    "Crear el motor de conexión a la base de datos\n"
   ]
  },
  {
   "cell_type": "code",
   "execution_count": 7,
   "id": "46499e61",
   "metadata": {
    "ExecuteTime": {
     "end_time": "2024-11-10T04:50:53.385175Z",
     "start_time": "2024-11-10T04:50:53.379786Z"
    },
    "execution": {
     "iopub.execute_input": "2025-06-06T18:39:22.923968Z",
     "iopub.status.busy": "2025-06-06T18:39:22.923968Z",
     "iopub.status.idle": "2025-06-06T18:39:22.956435Z",
     "shell.execute_reply": "2025-06-06T18:39:22.956435Z"
    }
   },
   "outputs": [],
   "source": [
    "cliente_etl = create_engine(url_etl)"
   ]
  },
  {
   "cell_type": "markdown",
   "id": "2541c59c",
   "metadata": {},
   "source": [
    "Guardar el DataFrame en la base de datos como la tabla dim_tiempo\n"
   ]
  },
  {
   "cell_type": "code",
   "execution_count": 8,
   "id": "f280bd33",
   "metadata": {
    "ExecuteTime": {
     "end_time": "2024-11-10T04:50:53.726375Z",
     "start_time": "2024-11-10T04:50:53.400082Z"
    },
    "execution": {
     "iopub.execute_input": "2025-06-06T18:39:22.956435Z",
     "iopub.status.busy": "2025-06-06T18:39:22.956435Z",
     "iopub.status.idle": "2025-06-06T18:39:26.977893Z",
     "shell.execute_reply": "2025-06-06T18:39:26.977893Z"
    }
   },
   "outputs": [
    {
     "data": {
      "text/plain": [
       "760"
      ]
     },
     "execution_count": 8,
     "metadata": {},
     "output_type": "execute_result"
    }
   ],
   "source": [
    "dim_tiempo.to_sql('dim_tiempo', cliente_etl, if_exists='replace', index=False, index_label='Tiempo_id')\n"
   ]
  },
  {
   "cell_type": "code",
   "execution_count": 9,
   "id": "fd02a2f017a94cf",
   "metadata": {
    "ExecuteTime": {
     "end_time": "2024-11-10T04:50:53.755152Z",
     "start_time": "2024-11-10T04:50:53.747731Z"
    },
    "execution": {
     "iopub.execute_input": "2025-06-06T18:39:26.977893Z",
     "iopub.status.busy": "2025-06-06T18:39:26.977893Z",
     "iopub.status.idle": "2025-06-06T18:39:26.987562Z",
     "shell.execute_reply": "2025-06-06T18:39:26.987562Z"
    }
   },
   "outputs": [
    {
     "data": {
      "text/html": [
       "<div>\n",
       "<style scoped>\n",
       "    .dataframe tbody tr th:only-of-type {\n",
       "        vertical-align: middle;\n",
       "    }\n",
       "\n",
       "    .dataframe tbody tr th {\n",
       "        vertical-align: top;\n",
       "    }\n",
       "\n",
       "    .dataframe thead th {\n",
       "        text-align: right;\n",
       "    }\n",
       "</style>\n",
       "<table border=\"1\" class=\"dataframe\">\n",
       "  <thead>\n",
       "    <tr style=\"text-align: right;\">\n",
       "      <th></th>\n",
       "      <th>tiempo_key</th>\n",
       "      <th>Año</th>\n",
       "      <th>Mes</th>\n",
       "      <th>Dia</th>\n",
       "      <th>Hora</th>\n",
       "    </tr>\n",
       "  </thead>\n",
       "  <tbody>\n",
       "    <tr>\n",
       "      <th>0</th>\n",
       "      <td>0</td>\n",
       "      <td>2023</td>\n",
       "      <td>1</td>\n",
       "      <td>1</td>\n",
       "      <td>0</td>\n",
       "    </tr>\n",
       "    <tr>\n",
       "      <th>1</th>\n",
       "      <td>1</td>\n",
       "      <td>2023</td>\n",
       "      <td>1</td>\n",
       "      <td>1</td>\n",
       "      <td>1</td>\n",
       "    </tr>\n",
       "    <tr>\n",
       "      <th>2</th>\n",
       "      <td>2</td>\n",
       "      <td>2023</td>\n",
       "      <td>1</td>\n",
       "      <td>1</td>\n",
       "      <td>2</td>\n",
       "    </tr>\n",
       "    <tr>\n",
       "      <th>3</th>\n",
       "      <td>3</td>\n",
       "      <td>2023</td>\n",
       "      <td>1</td>\n",
       "      <td>1</td>\n",
       "      <td>3</td>\n",
       "    </tr>\n",
       "    <tr>\n",
       "      <th>4</th>\n",
       "      <td>4</td>\n",
       "      <td>2023</td>\n",
       "      <td>1</td>\n",
       "      <td>1</td>\n",
       "      <td>4</td>\n",
       "    </tr>\n",
       "    <tr>\n",
       "      <th>...</th>\n",
       "      <td>...</td>\n",
       "      <td>...</td>\n",
       "      <td>...</td>\n",
       "      <td>...</td>\n",
       "      <td>...</td>\n",
       "    </tr>\n",
       "    <tr>\n",
       "      <th>8755</th>\n",
       "      <td>8755</td>\n",
       "      <td>2023</td>\n",
       "      <td>12</td>\n",
       "      <td>31</td>\n",
       "      <td>19</td>\n",
       "    </tr>\n",
       "    <tr>\n",
       "      <th>8756</th>\n",
       "      <td>8756</td>\n",
       "      <td>2023</td>\n",
       "      <td>12</td>\n",
       "      <td>31</td>\n",
       "      <td>20</td>\n",
       "    </tr>\n",
       "    <tr>\n",
       "      <th>8757</th>\n",
       "      <td>8757</td>\n",
       "      <td>2023</td>\n",
       "      <td>12</td>\n",
       "      <td>31</td>\n",
       "      <td>21</td>\n",
       "    </tr>\n",
       "    <tr>\n",
       "      <th>8758</th>\n",
       "      <td>8758</td>\n",
       "      <td>2023</td>\n",
       "      <td>12</td>\n",
       "      <td>31</td>\n",
       "      <td>22</td>\n",
       "    </tr>\n",
       "    <tr>\n",
       "      <th>8759</th>\n",
       "      <td>8759</td>\n",
       "      <td>2023</td>\n",
       "      <td>12</td>\n",
       "      <td>31</td>\n",
       "      <td>23</td>\n",
       "    </tr>\n",
       "  </tbody>\n",
       "</table>\n",
       "<p>8760 rows × 5 columns</p>\n",
       "</div>"
      ],
      "text/plain": [
       "      tiempo_key   Año  Mes  Dia  Hora\n",
       "0              0  2023    1    1     0\n",
       "1              1  2023    1    1     1\n",
       "2              2  2023    1    1     2\n",
       "3              3  2023    1    1     3\n",
       "4              4  2023    1    1     4\n",
       "...          ...   ...  ...  ...   ...\n",
       "8755        8755  2023   12   31    19\n",
       "8756        8756  2023   12   31    20\n",
       "8757        8757  2023   12   31    21\n",
       "8758        8758  2023   12   31    22\n",
       "8759        8759  2023   12   31    23\n",
       "\n",
       "[8760 rows x 5 columns]"
      ]
     },
     "execution_count": 9,
     "metadata": {},
     "output_type": "execute_result"
    }
   ],
   "source": [
    "dim_tiempo"
   ]
  }
 ],
 "metadata": {
  "kernelspec": {
   "display_name": "Python 3",
   "language": "python",
   "name": "python3"
  },
  "language_info": {
   "codemirror_mode": {
    "name": "ipython",
    "version": 3
   },
   "file_extension": ".py",
   "mimetype": "text/x-python",
   "name": "python",
   "nbconvert_exporter": "python",
   "pygments_lexer": "ipython3",
   "version": "3.12.6"
  }
 },
 "nbformat": 4,
 "nbformat_minor": 5
}
